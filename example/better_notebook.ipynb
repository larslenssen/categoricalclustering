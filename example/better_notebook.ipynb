{
 "cells": [
  {
   "cell_type": "code",
   "execution_count": 7,
   "id": "ef6f14ad0892b9a9",
   "metadata": {
    "ExecuteTime": {
     "end_time": "2024-08-23T10:31:24.935076Z",
     "start_time": "2024-08-23T10:31:24.914982Z"
    }
   },
   "outputs": [
    {
     "name": "stdout",
     "output_type": "stream",
     "text": [
      "The autoreload extension is already loaded. To reload it, use:\n",
      "  %reload_ext autoreload\n"
     ]
    }
   ],
   "source": [
    "%load_ext autoreload\n",
    "%autoreload 2"
   ]
  },
  {
   "cell_type": "code",
   "execution_count": 8,
   "id": "initial_id",
   "metadata": {
    "ExecuteTime": {
     "end_time": "2024-08-23T11:13:30.129433Z",
     "start_time": "2024-08-23T11:13:29.148551Z"
    },
    "collapsed": true
   },
   "outputs": [],
   "source": [
    "from catRED import merge_onehot_categories, catred_clustering\n",
    "import pandas as pd\n",
    "from visualization import *"
   ]
  },
  {
   "cell_type": "code",
   "execution_count": 9,
   "id": "40f5ec7bed161108",
   "metadata": {
    "ExecuteTime": {
     "end_time": "2024-08-23T11:15:14.742373Z",
     "start_time": "2024-08-23T11:15:12.496394Z"
    }
   },
   "outputs": [
    {
     "ename": "TypeError",
     "evalue": "catred_clustering() got an unexpected keyword argument 'return_tupel'",
     "output_type": "error",
     "traceback": [
      "\u001b[0;31m---------------------------------------------------------------------------\u001b[0m",
      "\u001b[0;31mTypeError\u001b[0m                                 Traceback (most recent call last)",
      "Cell \u001b[0;32mIn[9], line 5\u001b[0m\n\u001b[1;32m      2\u001b[0m df \u001b[38;5;241m=\u001b[39m merge_onehot_categories(df)\n\u001b[1;32m      3\u001b[0m weights \u001b[38;5;241m=\u001b[39m pd\u001b[38;5;241m.\u001b[39mSeries(np\u001b[38;5;241m.\u001b[39mones(\u001b[38;5;28mlen\u001b[39m(df\u001b[38;5;241m.\u001b[39mcolumns)), index\u001b[38;5;241m=\u001b[39mdf\u001b[38;5;241m.\u001b[39mcolumns)\n\u001b[0;32m----> 5\u001b[0m catclustres \u001b[38;5;241m=\u001b[39m \u001b[43mcatred_clustering\u001b[49m\u001b[43m(\u001b[49m\u001b[43mdf\u001b[49m\u001b[43m,\u001b[49m\u001b[43m \u001b[49m\u001b[43mweights\u001b[49m\u001b[38;5;241;43m=\u001b[39;49m\u001b[43mweights\u001b[49m\u001b[43m,\u001b[49m\n\u001b[1;32m      6\u001b[0m \u001b[43m                                                                                       \u001b[49m\u001b[43mreturn_tupel\u001b[49m\u001b[38;5;241;43m=\u001b[39;49m\u001b[38;5;28;43;01mTrue\u001b[39;49;00m\u001b[43m)\u001b[49m\n\u001b[1;32m      8\u001b[0m analyse_linkagematrix(df, catclustres\u001b[38;5;241m.\u001b[39mlinkage_matrix, weights, \u001b[38;5;241m4\u001b[39m, catclustres\u001b[38;5;241m.\u001b[39mc_probabilities_categorical, title\u001b[38;5;241m=\u001b[39m\u001b[38;5;124mf\u001b[39m\u001b[38;5;124m'\u001b[39m\u001b[38;5;124m Choosing 4 clusters, \u001b[39m\u001b[38;5;124m'\u001b[39m)\n",
      "\u001b[0;31mTypeError\u001b[0m: catred_clustering() got an unexpected keyword argument 'return_tupel'"
     ]
    }
   ],
   "source": [
    "df = pd.read_excel(\"elma2019.xlsx\", header=0, index_col=[0]).fillna(0.0).astype(np.int64)\n",
    "df = merge_onehot_categories(df)\n",
    "weights = pd.Series(np.ones(len(df.columns)), index=df.columns)\n",
    "\n",
    "catclustres = catred_clustering(df, weights=weights)\n",
    "\n",
    "analyse_linkagematrix(df, catclustres.linkage_matrix, weights, 4, catclustres.c_probabilities_categorical, title=f' Choosing 4 clusters, ')"
   ]
  },
  {
   "cell_type": "code",
   "execution_count": null,
   "id": "6efa3bc0384798d5",
   "metadata": {},
   "outputs": [],
   "source": []
  }
 ],
 "metadata": {
  "kernelspec": {
   "display_name": "Python 3 (ipykernel)",
   "language": "python",
   "name": "python3"
  },
  "language_info": {
   "codemirror_mode": {
    "name": "ipython",
    "version": 3
   },
   "file_extension": ".py",
   "mimetype": "text/x-python",
   "name": "python",
   "nbconvert_exporter": "python",
   "pygments_lexer": "ipython3",
   "version": "3.11.2"
  }
 },
 "nbformat": 4,
 "nbformat_minor": 5
}
